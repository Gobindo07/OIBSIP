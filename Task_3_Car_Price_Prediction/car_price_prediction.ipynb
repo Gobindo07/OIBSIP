{
 "cells": [
  {
   "cell_type": "markdown",
   "id": "2702ae8f",
   "metadata": {},
   "source": [
    "# 🚗 Car Price Prediction\n",
    "\n",
    "### 📌 Introduction\n",
    "The car market is dynamic, with prices influenced by multiple factors such as brand, model year, mileage, fuel type, and transmission.  \n",
    "In this project, we aim to build a **Machine Learning model** that predicts the price of cars based on their features.  \n",
    "\n",
    "### 🎯 Objective\n",
    "- Perform data cleaning and EDA on the dataset.  \n",
    "- Identify the key factors influencing car prices.  \n",
    "- Train regression models to predict car prices.  \n",
    "- Compare models and evaluate performance.\n"
   ]
  },
  {
   "cell_type": "code",
   "execution_count": 1,
   "id": "593b240e",
   "metadata": {},
   "outputs": [],
   "source": [
    "# Data handling\n",
    "import pandas as pd\n",
    "import numpy as np\n",
    "\n",
    "# Visualization\n",
    "import matplotlib.pyplot as plt\n",
    "import seaborn as sns\n",
    "import plotly.express as px\n",
    "\n",
    "# Machine Learning\n",
    "from sklearn.model_selection import train_test_split, cross_val_score\n",
    "from sklearn.preprocessing import LabelEncoder, StandardScaler\n",
    "from sklearn.linear_model import LinearRegression\n",
    "from sklearn.ensemble import RandomForestRegressor\n",
    "from sklearn.metrics import mean_absolute_error, mean_squared_error, r2_score\n"
   ]
  },
  {
   "cell_type": "code",
   "execution_count": 2,
   "id": "591bbde7",
   "metadata": {},
   "outputs": [
    {
     "name": "stdout",
     "output_type": "stream",
     "text": [
      "Shape: (301, 9)\n"
     ]
    },
    {
     "data": {
      "application/vnd.microsoft.datawrangler.viewer.v0+json": {
       "columns": [
        {
         "name": "index",
         "rawType": "int64",
         "type": "integer"
        },
        {
         "name": "Car_Name",
         "rawType": "object",
         "type": "string"
        },
        {
         "name": "Year",
         "rawType": "int64",
         "type": "integer"
        },
        {
         "name": "Selling_Price",
         "rawType": "float64",
         "type": "float"
        },
        {
         "name": "Present_Price",
         "rawType": "float64",
         "type": "float"
        },
        {
         "name": "Driven_kms",
         "rawType": "int64",
         "type": "integer"
        },
        {
         "name": "Fuel_Type",
         "rawType": "object",
         "type": "string"
        },
        {
         "name": "Selling_type",
         "rawType": "object",
         "type": "string"
        },
        {
         "name": "Transmission",
         "rawType": "object",
         "type": "string"
        },
        {
         "name": "Owner",
         "rawType": "int64",
         "type": "integer"
        }
       ],
       "ref": "042b90fa-2660-4423-9cb6-883966f7e787",
       "rows": [
        [
         "0",
         "ritz",
         "2014",
         "3.35",
         "5.59",
         "27000",
         "Petrol",
         "Dealer",
         "Manual",
         "0"
        ],
        [
         "1",
         "sx4",
         "2013",
         "4.75",
         "9.54",
         "43000",
         "Diesel",
         "Dealer",
         "Manual",
         "0"
        ],
        [
         "2",
         "ciaz",
         "2017",
         "7.25",
         "9.85",
         "6900",
         "Petrol",
         "Dealer",
         "Manual",
         "0"
        ],
        [
         "3",
         "wagon r",
         "2011",
         "2.85",
         "4.15",
         "5200",
         "Petrol",
         "Dealer",
         "Manual",
         "0"
        ],
        [
         "4",
         "swift",
         "2014",
         "4.6",
         "6.87",
         "42450",
         "Diesel",
         "Dealer",
         "Manual",
         "0"
        ]
       ],
       "shape": {
        "columns": 9,
        "rows": 5
       }
      },
      "text/html": [
       "<div>\n",
       "<style scoped>\n",
       "    .dataframe tbody tr th:only-of-type {\n",
       "        vertical-align: middle;\n",
       "    }\n",
       "\n",
       "    .dataframe tbody tr th {\n",
       "        vertical-align: top;\n",
       "    }\n",
       "\n",
       "    .dataframe thead th {\n",
       "        text-align: right;\n",
       "    }\n",
       "</style>\n",
       "<table border=\"1\" class=\"dataframe\">\n",
       "  <thead>\n",
       "    <tr style=\"text-align: right;\">\n",
       "      <th></th>\n",
       "      <th>Car_Name</th>\n",
       "      <th>Year</th>\n",
       "      <th>Selling_Price</th>\n",
       "      <th>Present_Price</th>\n",
       "      <th>Driven_kms</th>\n",
       "      <th>Fuel_Type</th>\n",
       "      <th>Selling_type</th>\n",
       "      <th>Transmission</th>\n",
       "      <th>Owner</th>\n",
       "    </tr>\n",
       "  </thead>\n",
       "  <tbody>\n",
       "    <tr>\n",
       "      <th>0</th>\n",
       "      <td>ritz</td>\n",
       "      <td>2014</td>\n",
       "      <td>3.35</td>\n",
       "      <td>5.59</td>\n",
       "      <td>27000</td>\n",
       "      <td>Petrol</td>\n",
       "      <td>Dealer</td>\n",
       "      <td>Manual</td>\n",
       "      <td>0</td>\n",
       "    </tr>\n",
       "    <tr>\n",
       "      <th>1</th>\n",
       "      <td>sx4</td>\n",
       "      <td>2013</td>\n",
       "      <td>4.75</td>\n",
       "      <td>9.54</td>\n",
       "      <td>43000</td>\n",
       "      <td>Diesel</td>\n",
       "      <td>Dealer</td>\n",
       "      <td>Manual</td>\n",
       "      <td>0</td>\n",
       "    </tr>\n",
       "    <tr>\n",
       "      <th>2</th>\n",
       "      <td>ciaz</td>\n",
       "      <td>2017</td>\n",
       "      <td>7.25</td>\n",
       "      <td>9.85</td>\n",
       "      <td>6900</td>\n",
       "      <td>Petrol</td>\n",
       "      <td>Dealer</td>\n",
       "      <td>Manual</td>\n",
       "      <td>0</td>\n",
       "    </tr>\n",
       "    <tr>\n",
       "      <th>3</th>\n",
       "      <td>wagon r</td>\n",
       "      <td>2011</td>\n",
       "      <td>2.85</td>\n",
       "      <td>4.15</td>\n",
       "      <td>5200</td>\n",
       "      <td>Petrol</td>\n",
       "      <td>Dealer</td>\n",
       "      <td>Manual</td>\n",
       "      <td>0</td>\n",
       "    </tr>\n",
       "    <tr>\n",
       "      <th>4</th>\n",
       "      <td>swift</td>\n",
       "      <td>2014</td>\n",
       "      <td>4.60</td>\n",
       "      <td>6.87</td>\n",
       "      <td>42450</td>\n",
       "      <td>Diesel</td>\n",
       "      <td>Dealer</td>\n",
       "      <td>Manual</td>\n",
       "      <td>0</td>\n",
       "    </tr>\n",
       "  </tbody>\n",
       "</table>\n",
       "</div>"
      ],
      "text/plain": [
       "  Car_Name  Year  Selling_Price  Present_Price  Driven_kms Fuel_Type  \\\n",
       "0     ritz  2014           3.35           5.59       27000    Petrol   \n",
       "1      sx4  2013           4.75           9.54       43000    Diesel   \n",
       "2     ciaz  2017           7.25           9.85        6900    Petrol   \n",
       "3  wagon r  2011           2.85           4.15        5200    Petrol   \n",
       "4    swift  2014           4.60           6.87       42450    Diesel   \n",
       "\n",
       "  Selling_type Transmission  Owner  \n",
       "0       Dealer       Manual      0  \n",
       "1       Dealer       Manual      0  \n",
       "2       Dealer       Manual      0  \n",
       "3       Dealer       Manual      0  \n",
       "4       Dealer       Manual      0  "
      ]
     },
     "execution_count": 2,
     "metadata": {},
     "output_type": "execute_result"
    }
   ],
   "source": [
    "# Load dataset (replace with your file name)\n",
    "df = pd.read_csv(\"car data.csv\")\n",
    "\n",
    "# Quick look\n",
    "print(\"Shape:\", df.shape)\n",
    "df.head()\n"
   ]
  },
  {
   "cell_type": "code",
   "execution_count": 4,
   "id": "72ca851e",
   "metadata": {},
   "outputs": [
    {
     "name": "stdout",
     "output_type": "stream",
     "text": [
      "<class 'pandas.core.frame.DataFrame'>\n",
      "Index: 299 entries, 0 to 300\n",
      "Data columns (total 9 columns):\n",
      " #   Column         Non-Null Count  Dtype  \n",
      "---  ------         --------------  -----  \n",
      " 0   Car_Name       299 non-null    int64  \n",
      " 1   Year           299 non-null    int64  \n",
      " 2   Selling_Price  299 non-null    float64\n",
      " 3   Present_Price  299 non-null    float64\n",
      " 4   Driven_kms     299 non-null    int64  \n",
      " 5   Fuel_Type      299 non-null    int64  \n",
      " 6   Selling_type   299 non-null    int64  \n",
      " 7   Transmission   299 non-null    int64  \n",
      " 8   Owner          299 non-null    int64  \n",
      "dtypes: float64(2), int64(7)\n",
      "memory usage: 23.4 KB\n",
      "\n",
      "Missing values:\n",
      " Car_Name         0\n",
      "Year             0\n",
      "Selling_Price    0\n",
      "Present_Price    0\n",
      "Driven_kms       0\n",
      "Fuel_Type        0\n",
      "Selling_type     0\n",
      "Transmission     0\n",
      "Owner            0\n",
      "dtype: int64\n"
     ]
    },
    {
     "data": {
      "application/vnd.microsoft.datawrangler.viewer.v0+json": {
       "columns": [
        {
         "name": "index",
         "rawType": "int64",
         "type": "integer"
        },
        {
         "name": "Car_Name",
         "rawType": "int64",
         "type": "integer"
        },
        {
         "name": "Year",
         "rawType": "int64",
         "type": "integer"
        },
        {
         "name": "Selling_Price",
         "rawType": "float64",
         "type": "float"
        },
        {
         "name": "Present_Price",
         "rawType": "float64",
         "type": "float"
        },
        {
         "name": "Driven_kms",
         "rawType": "int64",
         "type": "integer"
        },
        {
         "name": "Fuel_Type",
         "rawType": "int64",
         "type": "integer"
        },
        {
         "name": "Selling_type",
         "rawType": "int64",
         "type": "integer"
        },
        {
         "name": "Transmission",
         "rawType": "int64",
         "type": "integer"
        },
        {
         "name": "Owner",
         "rawType": "int64",
         "type": "integer"
        }
       ],
       "ref": "7e7562b4-49b7-4039-9cf7-e798835911a4",
       "rows": [
        [
         "0",
         "90",
         "2014",
         "3.35",
         "5.59",
         "27000",
         "2",
         "0",
         "1",
         "0"
        ],
        [
         "1",
         "93",
         "2013",
         "4.75",
         "9.54",
         "43000",
         "1",
         "0",
         "1",
         "0"
        ],
        [
         "2",
         "68",
         "2017",
         "7.25",
         "9.85",
         "6900",
         "2",
         "0",
         "1",
         "0"
        ],
        [
         "3",
         "96",
         "2011",
         "2.85",
         "4.15",
         "5200",
         "2",
         "0",
         "1",
         "0"
        ],
        [
         "4",
         "92",
         "2014",
         "4.6",
         "6.87",
         "42450",
         "1",
         "0",
         "1",
         "0"
        ]
       ],
       "shape": {
        "columns": 9,
        "rows": 5
       }
      },
      "text/html": [
       "<div>\n",
       "<style scoped>\n",
       "    .dataframe tbody tr th:only-of-type {\n",
       "        vertical-align: middle;\n",
       "    }\n",
       "\n",
       "    .dataframe tbody tr th {\n",
       "        vertical-align: top;\n",
       "    }\n",
       "\n",
       "    .dataframe thead th {\n",
       "        text-align: right;\n",
       "    }\n",
       "</style>\n",
       "<table border=\"1\" class=\"dataframe\">\n",
       "  <thead>\n",
       "    <tr style=\"text-align: right;\">\n",
       "      <th></th>\n",
       "      <th>Car_Name</th>\n",
       "      <th>Year</th>\n",
       "      <th>Selling_Price</th>\n",
       "      <th>Present_Price</th>\n",
       "      <th>Driven_kms</th>\n",
       "      <th>Fuel_Type</th>\n",
       "      <th>Selling_type</th>\n",
       "      <th>Transmission</th>\n",
       "      <th>Owner</th>\n",
       "    </tr>\n",
       "  </thead>\n",
       "  <tbody>\n",
       "    <tr>\n",
       "      <th>0</th>\n",
       "      <td>90</td>\n",
       "      <td>2014</td>\n",
       "      <td>3.35</td>\n",
       "      <td>5.59</td>\n",
       "      <td>27000</td>\n",
       "      <td>2</td>\n",
       "      <td>0</td>\n",
       "      <td>1</td>\n",
       "      <td>0</td>\n",
       "    </tr>\n",
       "    <tr>\n",
       "      <th>1</th>\n",
       "      <td>93</td>\n",
       "      <td>2013</td>\n",
       "      <td>4.75</td>\n",
       "      <td>9.54</td>\n",
       "      <td>43000</td>\n",
       "      <td>1</td>\n",
       "      <td>0</td>\n",
       "      <td>1</td>\n",
       "      <td>0</td>\n",
       "    </tr>\n",
       "    <tr>\n",
       "      <th>2</th>\n",
       "      <td>68</td>\n",
       "      <td>2017</td>\n",
       "      <td>7.25</td>\n",
       "      <td>9.85</td>\n",
       "      <td>6900</td>\n",
       "      <td>2</td>\n",
       "      <td>0</td>\n",
       "      <td>1</td>\n",
       "      <td>0</td>\n",
       "    </tr>\n",
       "    <tr>\n",
       "      <th>3</th>\n",
       "      <td>96</td>\n",
       "      <td>2011</td>\n",
       "      <td>2.85</td>\n",
       "      <td>4.15</td>\n",
       "      <td>5200</td>\n",
       "      <td>2</td>\n",
       "      <td>0</td>\n",
       "      <td>1</td>\n",
       "      <td>0</td>\n",
       "    </tr>\n",
       "    <tr>\n",
       "      <th>4</th>\n",
       "      <td>92</td>\n",
       "      <td>2014</td>\n",
       "      <td>4.60</td>\n",
       "      <td>6.87</td>\n",
       "      <td>42450</td>\n",
       "      <td>1</td>\n",
       "      <td>0</td>\n",
       "      <td>1</td>\n",
       "      <td>0</td>\n",
       "    </tr>\n",
       "  </tbody>\n",
       "</table>\n",
       "</div>"
      ],
      "text/plain": [
       "   Car_Name  Year  Selling_Price  Present_Price  Driven_kms  Fuel_Type  \\\n",
       "0        90  2014           3.35           5.59       27000          2   \n",
       "1        93  2013           4.75           9.54       43000          1   \n",
       "2        68  2017           7.25           9.85        6900          2   \n",
       "3        96  2011           2.85           4.15        5200          2   \n",
       "4        92  2014           4.60           6.87       42450          1   \n",
       "\n",
       "   Selling_type  Transmission  Owner  \n",
       "0             0             1      0  \n",
       "1             0             1      0  \n",
       "2             0             1      0  \n",
       "3             0             1      0  \n",
       "4             0             1      0  "
      ]
     },
     "execution_count": 4,
     "metadata": {},
     "output_type": "execute_result"
    }
   ],
   "source": [
    "# Info and missing values\n",
    "df.info()\n",
    "print(\"\\nMissing values:\\n\", df.isnull().sum())\n",
    "\n",
    "# Drop duplicates if any\n",
    "df = df.drop_duplicates()\n",
    "\n",
    "# Example: Extract car brand if dataset has 'CarName'\n",
    "if 'CarName' in df.columns:\n",
    "    df['Brand'] = df['CarName'].apply(lambda x: x.split()[0].lower())\n",
    "\n",
    "# Handle categorical variables (fuel, transmission, seller type, etc.)\n",
    "cat_cols = df.select_dtypes(include=['object']).columns\n",
    "for col in cat_cols:\n",
    "    lbl = LabelEncoder()\n",
    "    df[col] = lbl.fit_transform(df[col])\n",
    "\n",
    "df.head()\n"
   ]
  },
  {
   "cell_type": "code",
   "execution_count": 6,
   "id": "aa0b0dde",
   "metadata": {},
   "outputs": [
    {
     "data": {
      "image/png": "[encoded data removed]",
      "text/plain": [
       "<Figure size 800x600 with 1 Axes>"
      ]
     },
     "metadata": {},
     "output_type": "display_data"
    },
    {
     "data": {
      "image/png": "[encoded data removed]",
      "text/plain": [
       "<Figure size 1000x600 with 2 Axes>"
      ]
     },
     "metadata": {},
     "output_type": "display_data"
    },
    {
     "data": {
      "application/vnd.plotly.v1+json": {
       "config": {
        "plotlyServerURL": "https://plot.ly"
       },
       "data": [
        {
         "hovertemplate": "Driven_kms=%{x}<br>Selling_Price=%{y}<br>Fuel_Type=%{marker.color}<extra></extra>",
         "legendgroup": "",
         "marker": {
          "color": {
           "bdata": "AgECAgEBAgEBAQIBAgICAQEAAgICAgICAgICAgEBAgEBAQACAgICAgICAQICAgICAgEBAQECAgICAgECAgEBAQECAQICAQECAgECAgICAQEBAQEBAgECAgICAQICAgECAgECAgICAgICAgICAgICAgICAgICAgICAgICAgICAgICAgICAgICAgICAgICAgICAgICAgICAgICAgICAgICAgICAgICAgICAgICAgICAgICAgICAgICAgICAgICAgICAgICAgICAgECAgICAgICAQIBAgICAgICAgICAgEBAgICAgEBAQICAQICAgECAgECAgIBAQICAgIBAgIBAgICAgICAgICAgICAgECAgICAgICAgICAgICAgECAgICAgICAgICAgIBAQICAQI=",
           "dtype": "i1"
          },
          "coloraxis": "coloraxis",
          "symbol": "circle"
         },
         "mode": "markers",
         "name": "",
         "orientation": "v",
         "showlegend": false,
         "type": "scatter",
         "x": {
          "bdata": "eGkAAPinAAD0GgAAUBQAANKlAAAXCAAAbEkAAJWCAAAxTwAAf6UAAFcIAAA4xwAAmDoAAJBlAABzLgEA+KcAAM6iAACsigAA4qEAAKhhAABgCQAAUMMAAOCwAAAv3gAAIE4AAGLXAABIPwAA/q0AAMivAADvyAAAuNMAAFiYAADIrwAAyK8AAE7DAAB/vgAAGPABAF8nAAAw8gAAzF8AAHK2AACQ4gAA1LIAAFDDAACYOgAAFPwAAOj9AAAOZQAAiJAAAAOZAQBAnAAAmDoAAFgPAgCQXwEAcBEBAFaeAABQwwAAPZoAACigAABBnAAAjJ4AALAwAQCYtwAAcBcAAMivAAD4KgAAeOYAAMBXAQDgLgAAWBUBAMivAADB2gAA+KcAADhEAQCgjAAAQBkBAPIPAgCAOAEAqFsBANhZAABAnAAAmDoAAHCUAAA4AgMAsCoCALAwAQDA2gAAmLcAAECcAAAw8gAAguMAAPgkAQCoWwEAQBkBAEhxAAD8IQAAyK8AAGjDAAC4CwAAeAUAAKAPAACwBAAABBAAAMRUAAB0QAAAmDoAAFBGAAD4KgAAcBcAAPwhAABYGwAAuIgAAGhCAABcRAAA6IAAALA2AACQZQAAGBUAAEQWAAD0GgAAcBcAAKS1AADsLAAAQJwAABQFAABYGwAAuAsAAIgTAAD4KgAAUEYAAKwNAAD0AQAAGC4AAIgTAADMWwAAgD4AAJg6AADYQAAAAH0AACBOAABIcQAAqGEAAKhhAAA4SgAAmDoAAJDiAADIrwAAwF0AAHAXAAAYeQAAyDIAAMivAABAHwAAzBAAAJg6AADYWQAAmCEAAKAPAADAXQAA2FkAAKQ4AAB4aQAAsDYAAPQBAADoAwAAEKQAAOAuAACwNgAAfBUAACwaAACENQAAFAUAAMiWAAD4JAEAMHUAAMBdAAA4SgAACEADAGDqAABQwwAAMHUAAAhSAACQZQAAbAcAAPBVAAAAfQAAUEYAANjWAABg6gAAqGEAAGi/AADAXQAAUMMAALiIAAAgoQcA6IAAALiIAAAIzwAASWgBAJDiAAAobgAA1NAAAHpuAAClDQAAvzAAAO2HAABrDQAAhVIAAL+LAAAPqgAAj1gAAHR7AACSTgAABI0AANQwAACYOgAAFrAAAKCMAABYlgAAAH0AAEAvAQDF7wAAZo0AAPVXAABmYAAAqN4AAGDqAACkywAAyK8AAJk6AABkMgAACM8AAIwRAAAlOwAASS4AAKAJAQBR6wAAnVwAAEJ+AAAajAAA0IQAAFgbAABovwAAWBUBALiIAACgjAAAMHUAAGhCAABejAAAfd0AAMN6AACAuwAA4tMAAKvRAACawQAAhJ0AAKhhAADWjAAAJ3IAAOAVAABXnAAAgj4AAFqcAADQUgAAuIgAAOpLAAA4SgAAjEkAAN0OAQC6DwEA0GsAABPvAAB0QAAAIXgAAOBgAAAUVQAAoA8AAL6cAACBOAAAGMUAABj2AAAyIwAASCYAANM6AACZbwAA4KsAANCEAADkKgAAOEoAAMN6AADgLgAAcJQAAPuAAACs6gAAxIQAAGDqAAB+VwEAKCMAAFgVAAA=",
          "dtype": "i4"
         },
         "xaxis": "x",
         "y": {
          "bdata": "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",
          "dtype": "f8"
         },
         "yaxis": "y"
        }
       ],
       "layout": {
        "coloraxis": {
         "colorbar": {
          "title": {
           "text": "Fuel_Type"
          }
         },
         "colorscale": [
          [
           0,
           "#0d0887"
          ],
          [
           0.1111111111111111,
           "#46039f"
          ],
          [
           0.2222222222222222,
           "#7201a8"
          ],
          [
           0.3333333333333333,
           "#9c179e"
          ],
          [
           0.4444444444444444,
           "#bd3786"
          ],
          [
           0.5555555555555556,
           "#d8576b"
          ],
          [
           0.6666666666666666,
           "#ed7953"
          ],
          [
           0.7777777777777778,
           "#fb9f3a"
          ],
          [
           0.8888888888888888,
           "#fdca26"
          ],
          [
           1,
           "#f0f921"
          ]
         ]
        },
        "legend": {
         "tracegroupgap": 0
        },
        "template": {
         "data": {
          "bar": [
           {
            "error_x": {
             "color": "#2a3f5f"
            },
            "error_y": {
             "color": "#2a3f5f"
            },
            "marker": {
             "line": {
              "color": "#E5ECF6",
              "width": 0.5
             },
             "pattern": {
              "fillmode": "overlay",
              "size": 10,
              "solidity": 0.2
             }
            },
            "type": "bar"
           }
          ],
          "barpolar": [
           {
            "marker": {
             "line": {
              "color": "#E5ECF6",
              "width": 0.5
             },
             "pattern": {
              "fillmode": "overlay",
              "size": 10,
              "solidity": 0.2
             }
            },
            "type": "barpolar"
           }
          ],
          "carpet": [
           {
            "aaxis": {
             "endlinecolor": "#2a3f5f",
             "gridcolor": "white",
             "linecolor": "white",
             "minorgridcolor": "white",
             "startlinecolor": "#2a3f5f"
            },
            "baxis": {
             "endlinecolor": "#2a3f5f",
             "gridcolor": "white",
             "linecolor": "white",
             "minorgridcolor": "white",
             "startlinecolor": "#2a3f5f"
            },
            "type": "carpet"
           }
          ],
          "choropleth": [
           {
            "colorbar": {
             "outlinewidth": 0,
             "ticks": ""
            },
            "type": "choropleth"
           }
          ],
          "contour": [
           {
            "colorbar": {
             "outlinewidth": 0,
             "ticks": ""
            },
            "colorscale": [
             [
              0,
              "#0d0887"
             ],
             [
              0.1111111111111111,
              "#46039f"
             ],
             [
              0.2222222222222222,
              "#7201a8"
             ],
             [
              0.3333333333333333,
              "#9c179e"
             ],
             [
              0.4444444444444444,
              "#bd3786"
             ],
             [
              0.5555555555555556,
              "#d8576b"
             ],
             [
              0.6666666666666666,
              "#ed7953"
             ],
             [
              0.7777777777777778,
              "#fb9f3a"
             ],
             [
              0.8888888888888888,
              "#fdca26"
             ],
             [
              1,
              "#f0f921"
             ]
            ],
            "type": "contour"
           }
          ],
          "contourcarpet": [
           {
            "colorbar": {
             "outlinewidth": 0,
             "ticks": ""
            },
            "type": "contourcarpet"
           }
          ],
          "heatmap": [
           {
            "colorbar": {
             "outlinewidth": 0,
             "ticks": ""
            },
            "colorscale": [
             [
              0,
              "#0d0887"
             ],
             [
              0.1111111111111111,
              "#46039f"
             ],
             [
              0.2222222222222222,
              "#7201a8"
             ],
             [
              0.3333333333333333,
              "#9c179e"
             ],
             [
              0.4444444444444444,
              "#bd3786"
             ],
             [
              0.5555555555555556,
              "#d8576b"
             ],
             [
              0.6666666666666666,
              "#ed7953"
             ],
             [
              0.7777777777777778,
              "#fb9f3a"
             ],
             [
              0.8888888888888888,
              "#fdca26"
             ],
             [
              1,
              "#f0f921"
             ]
            ],
            "type": "heatmap"
           }
          ],
          "histogram": [
           {
            "marker": {
             "pattern": {
              "fillmode": "overlay",
              "size": 10,
              "solidity": 0.2
             }
            },
            "type": "histogram"
           }
          ],
          "histogram2d": [
           {
            "colorbar": {
             "outlinewidth": 0,
             "ticks": ""
            },
            "colorscale": [
             [
              0,
              "#0d0887"
             ],
             [
              0.1111111111111111,
              "#46039f"
             ],
             [
              0.2222222222222222,
              "#7201a8"
             ],
             [
              0.3333333333333333,
              "#9c179e"
             ],
             [
              0.4444444444444444,
              "#bd3786"
             ],
             [
              0.5555555555555556,
              "#d8576b"
             ],
             [
              0.6666666666666666,
              "#ed7953"
             ],
             [
              0.7777777777777778,
              "#fb9f3a"
             ],
             [
              0.8888888888888888,
              "#fdca26"
             ],
             [
              1,
              "#f0f921"
             ]
            ],
            "type": "histogram2d"
           }
          ],
          "histogram2dcontour": [
           {
            "colorbar": {
             "outlinewidth": 0,
             "ticks": ""
            },
            "colorscale": [
             [
              0,
              "#0d0887"
             ],
             [
              0.1111111111111111,
              "#46039f"
             ],
             [
              0.2222222222222222,
              "#7201a8"
             ],
             [
              0.3333333333333333,
              "#9c179e"
             ],
             [
              0.4444444444444444,
              "#bd3786"
             ],
             [
              0.5555555555555556,
              "#d8576b"
             ],
             [
              0.6666666666666666,
              "#ed7953"
             ],
             [
              0.7777777777777778,
              "#fb9f3a"
             ],
             [
              0.8888888888888888,
              "#fdca26"
             ],
             [
              1,
              "#f0f921"
             ]
            ],
            "type": "histogram2dcontour"
           }
          ],
          "mesh3d": [
           {
            "colorbar": {
             "outlinewidth": 0,
             "ticks": ""
            },
            "type": "mesh3d"
           }
          ],
          "parcoords": [
           {
            "line": {
             "colorbar": {
              "outlinewidth": 0,
              "ticks": ""
             }
            },
            "type": "parcoords"
           }
          ],
          "pie": [
           {
            "automargin": true,
            "type": "pie"
           }
          ],
          "scatter": [
           {
            "fillpattern": {
             "fillmode": "overlay",
             "size": 10,
             "solidity": 0.2
            },
            "type": "scatter"
           }
          ],
          "scatter3d": [
           {
            "line": {
             "colorbar": {
              "outlinewidth": 0,
              "ticks": ""
             }
            },
            "marker": {
             "colorbar": {
              "outlinewidth": 0,
              "ticks": ""
             }
            },
            "type": "scatter3d"
           }
          ],
          "scattercarpet": [
           {
            "marker": {
             "colorbar": {
              "outlinewidth": 0,
              "ticks": ""
             }
            },
            "type": "scattercarpet"
           }
          ],
          "scattergeo": [
           {
            "marker": {
             "colorbar": {
              "outlinewidth": 0,
              "ticks": ""
             }
            },
            "type": "scattergeo"
           }
          ],
          "scattergl": [
           {
            "marker": {
             "colorbar": {
              "outlinewidth": 0,
              "ticks": ""
             }
            },
            "type": "scattergl"
           }
          ],
          "scattermap": [
           {
            "marker": {
             "colorbar": {
              "outlinewidth": 0,
              "ticks": ""
             }
            },
            "type": "scattermap"
           }
          ],
          "scattermapbox": [
           {
            "marker": {
             "colorbar": {
              "outlinewidth": 0,
              "ticks": ""
             }
            },
            "type": "scattermapbox"
           }
          ],
          "scatterpolar": [
           {
            "marker": {
             "colorbar": {
              "outlinewidth": 0,
              "ticks": ""
             }
            },
            "type": "scatterpolar"
           }
          ],
          "scatterpolargl": [
           {
            "marker": {
             "colorbar": {
              "outlinewidth": 0,
              "ticks": ""
             }
            },
            "type": "scatterpolargl"
           }
          ],
          "scatterternary": [
           {
            "marker": {
             "colorbar": {
              "outlinewidth": 0,
              "ticks": ""
             }
            },
            "type": "scatterternary"
           }
          ],
          "surface": [
           {
            "colorbar": {
             "outlinewidth": 0,
             "ticks": ""
            },
            "colorscale": [
             [
              0,
              "#0d0887"
             ],
             [
              0.1111111111111111,
              "#46039f"
             ],
             [
              0.2222222222222222,
              "#7201a8"
             ],
             [
              0.3333333333333333,
              "#9c179e"
             ],
             [
              0.4444444444444444,
              "#bd3786"
             ],
             [
              0.5555555555555556,
              "#d8576b"
             ],
             [
              0.6666666666666666,
              "#ed7953"
             ],
             [
              0.7777777777777778,
              "#fb9f3a"
             ],
             [
              0.8888888888888888,
              "#fdca26"
             ],
             [
              1,
              "#f0f921"
             ]
            ],
            "type": "surface"
           }
          ],
          "table": [
           {
            "cells": {
             "fill": {
              "color": "#EBF0F8"
             },
             "line": {
              "color": "white"
             }
            },
            "header": {
             "fill": {
              "color": "#C8D4E3"
             },
             "line": {
              "color": "white"
             }
            },
            "type": "table"
           }
          ]
         },
         "layout": {
          "annotationdefaults": {
           "arrowcolor": "#2a3f5f",
           "arrowhead": 0,
           "arrowwidth": 1
          },
          "autotypenumbers": "strict",
          "coloraxis": {
           "colorbar": {
            "outlinewidth": 0,
            "ticks": ""
           }
          },
          "colorscale": {
           "diverging": [
            [
             0,
             "#8e0152"
            ],
            [
             0.1,
             "#c51b7d"
            ],
            [
             0.2,
             "#de77ae"
            ],
            [
             0.3,
             "#f1b6da"
            ],
            [
             0.4,
             "#fde0ef"
            ],
            [
             0.5,
             "#f7f7f7"
            ],
            [
             0.6,
             "#e6f5d0"
            ],
            [
             0.7,
             "#b8e186"
            ],
            [
             0.8,
             "#7fbc41"
            ],
            [
             0.9,
             "#4d9221"
            ],
            [
             1,
             "#276419"
            ]
           ],
           "sequential": [
            [
             0,
             "#0d0887"
            ],
            [
             0.1111111111111111,
             "#46039f"
            ],
            [
             0.2222222222222222,
             "#7201a8"
            ],
            [
             0.3333333333333333,
             "#9c179e"
            ],
            [
             0.4444444444444444,
             "#bd3786"
            ],
            [
             0.5555555555555556,
             "#d8576b"
            ],
            [
             0.6666666666666666,
             "#ed7953"
            ],
            [
             0.7777777777777778,
             "#fb9f3a"
            ],
            [
             0.8888888888888888,
             "#fdca26"
            ],
            [
             1,
             "#f0f921"
            ]
           ],
           "sequentialminus": [
            [
             0,
             "#0d0887"
            ],
            [
             0.1111111111111111,
             "#46039f"
            ],
            [
             0.2222222222222222,
             "#7201a8"
            ],
            [
             0.3333333333333333,
             "#9c179e"
            ],
            [
             0.4444444444444444,
             "#bd3786"
            ],
            [
             0.5555555555555556,
             "#d8576b"
            ],
            [
             0.6666666666666666,
             "#ed7953"
            ],
            [
             0.7777777777777778,
             "#fb9f3a"
            ],
            [
             0.8888888888888888,
             "#fdca26"
            ],
            [
             1,
             "#f0f921"
            ]
           ]
          },
          "colorway": [
           "#636efa",
           "#EF553B",
           "#00cc96",
           "#ab63fa",
           "#FFA15A",
           "#19d3f3",
           "#FF6692",
           "#B6E880",
           "#FF97FF",
           "#FECB52"
          ],
          "font": {
           "color": "#2a3f5f"
          },
          "geo": {
           "bgcolor": "white",
           "lakecolor": "white",
           "landcolor": "#E5ECF6",
           "showlakes": true,
           "showland": true,
           "subunitcolor": "white"
          },
          "hoverlabel": {
           "align": "left"
          },
          "hovermode": "closest",
          "mapbox": {
           "style": "light"
          },
          "paper_bgcolor": "white",
          "plot_bgcolor": "#E5ECF6",
          "polar": {
           "angularaxis": {
            "gridcolor": "white",
            "linecolor": "white",
            "ticks": ""
           },
           "bgcolor": "#E5ECF6",
           "radialaxis": {
            "gridcolor": "white",
            "linecolor": "white",
            "ticks": ""
           }
          },
          "scene": {
           "xaxis": {
            "backgroundcolor": "#E5ECF6",
            "gridcolor": "white",
            "gridwidth": 2,
            "linecolor": "white",
            "showbackground": true,
            "ticks": "",
            "zerolinecolor": "white"
           },
           "yaxis": {
            "backgroundcolor": "#E5ECF6",
            "gridcolor": "white",
            "gridwidth": 2,
            "linecolor": "white",
            "showbackground": true,
            "ticks": "",
            "zerolinecolor": "white"
           },
           "zaxis": {
            "backgroundcolor": "#E5ECF6",
            "gridcolor": "white",
            "gridwidth": 2,
            "linecolor": "white",
            "showbackground": true,
            "ticks": "",
            "zerolinecolor": "white"
           }
          },
          "shapedefaults": {
           "line": {
            "color": "#2a3f5f"
           }
          },
          "ternary": {
           "aaxis": {
            "gridcolor": "white",
            "linecolor": "white",
            "ticks": ""
           },
           "baxis": {
            "gridcolor": "white",
            "linecolor": "white",
            "ticks": ""
           },
           "bgcolor": "#E5ECF6",
           "caxis": {
            "gridcolor": "white",
            "linecolor": "white",
            "ticks": ""
           }
          },
          "title": {
           "x": 0.05
          },
          "xaxis": {
           "automargin": true,
           "gridcolor": "white",
           "linecolor": "white",
           "ticks": "",
           "title": {
            "standoff": 15
           },
           "zerolinecolor": "white",
           "zerolinewidth": 2
          },
          "yaxis": {
           "automargin": true,
           "gridcolor": "white",
           "linecolor": "white",
           "ticks": "",
           "title": {
            "standoff": 15
           },
           "zerolinecolor": "white",
           "zerolinewidth": 2
          }
         }
        },
        "title": {
         "text": "Selling Price vs Driven Kms by Fuel Type"
        },
        "xaxis": {
         "anchor": "y",
         "domain": [
          0,
          1
         ],
         "title": {
          "text": "Driven_kms"
         }
        },
        "yaxis": {
         "anchor": "x",
         "domain": [
          0,
          1
         ],
         "title": {
          "text": "Selling_Price"
         }
        }
       }
      }
     },
     "metadata": {},
     "output_type": "display_data"
    }
   ],
   "source": [
    "# Price distribution\n",
    "plt.figure(figsize=(8,6))\n",
    "sns.histplot(df['Selling_Price'], kde=True, color='blue')\n",
    "plt.title(\"Car Price Distribution\")\n",
    "plt.show()\n",
    "\n",
    "# Correlation heatmap\n",
    "plt.figure(figsize=(10,6))\n",
    "sns.heatmap(df.corr(), annot=False, cmap=\"coolwarm\")\n",
    "plt.title(\"Correlation Heatmap\")\n",
    "plt.show()\n",
    "\n",
    "# Scatter plots with Plotly\n",
    "fig = px.scatter(df, x=\"Driven_kms\", y=\"Selling_Price\", color=\"Fuel_Type\", title=\"Selling Price vs Driven Kms by Fuel Type\")\n",
    "fig.show()\n"
   ]
  },
  {
   "cell_type": "code",
   "execution_count": 8,
   "id": "fe91ab41",
   "metadata": {},
   "outputs": [],
   "source": [
    "# Example: Car Age\n",
    "if 'year' in df.columns:\n",
    "    df['car_age'] = 2025 - df['year']\n",
    "    df = df.drop('year', axis=1)\n",
    "\n",
    "# Define features (X) and target (y)\n",
    "X = df.drop('Selling_Price', axis=1)\n",
    "y = df['Selling_Price']\n",
    "\n",
    "# Train/Test Split\n",
    "X_train, X_test, y_train, y_test = train_test_split(X, y, test_size=0.2, random_state=42)\n",
    "\n",
    "# Scaling\n",
    "scaler = StandardScaler()\n",
    "X_train = scaler.fit_transform(X_train)\n",
    "X_test = scaler.transform(X_test)\n"
   ]
  },
  {
   "cell_type": "code",
   "execution_count": 10,
   "id": "041e68e9",
   "metadata": {},
   "outputs": [],
   "source": [
    "# Linear Regression\n",
    "lr = LinearRegression()\n",
    "lr.fit(X_train, y_train)\n",
    "y_pred_lr = lr.predict(X_test)\n",
    "\n",
    "# Random Forest\n",
    "rf = RandomForestRegressor(n_estimators=200, random_state=42)\n",
    "rf.fit(X_train, y_train)\n",
    "y_pred_rf = rf.predict(X_test)\n"
   ]
  },
  {
   "cell_type": "code",
   "execution_count": 11,
   "id": "b5bd9943",
   "metadata": {},
   "outputs": [
    {
     "name": "stdout",
     "output_type": "stream",
     "text": [
      "Linear Regression Results:\n",
      " MAE: 1.57\n",
      " RMSE: 2.61\n",
      " R²: 0.73\n",
      "----------------------------------------\n",
      "Random Forest Regressor Results:\n",
      " MAE: 1.36\n",
      " RMSE: 3.35\n",
      " R²: 0.57\n",
      "----------------------------------------\n"
     ]
    }
   ],
   "source": [
    "def evaluate(y_true, y_pred, model_name):\n",
    "    mae = mean_absolute_error(y_true, y_pred)\n",
    "    mse = mean_squared_error(y_true, y_pred)\n",
    "    rmse = np.sqrt(mse)\n",
    "    r2 = r2_score(y_true, y_pred)\n",
    "    print(f\"{model_name} Results:\")\n",
    "    print(f\" MAE: {mae:.2f}\")\n",
    "    print(f\" RMSE: {rmse:.2f}\")\n",
    "    print(f\" R²: {r2:.2f}\")\n",
    "    print(\"-\"*40)\n",
    "\n",
    "evaluate(y_test, y_pred_lr, \"Linear Regression\")\n",
    "evaluate(y_test, y_pred_rf, \"Random Forest Regressor\")\n"
   ]
  },
  {
   "cell_type": "code",
   "execution_count": 13,
   "id": "95fb66df",
   "metadata": {},
   "outputs": [
    {
     "data": {
      "image/png": "[encoded data removed]",
      "text/plain": [
       "<Figure size 1000x600 with 1 Axes>"
      ]
     },
     "metadata": {},
     "output_type": "display_data"
    }
   ],
   "source": [
    "importances = rf.feature_importances_\n",
    "features = X.shape[1]\n",
    "\n",
    "plt.figure(figsize=(10,6))\n",
    "sns.barplot(x=importances, y=X.columns)\n",
    "plt.title(\"Feature Importance (Random Forest)\")\n",
    "plt.show()\n"
   ]
  },
  {
   "cell_type": "markdown",
   "id": "cb0d6733",
   "metadata": {},
   "source": [
    "## ✅ Conclusion\n",
    "\n",
    "- We successfully built ML models to predict car prices.  \n",
    "- **Random Forest Regressor** outperformed Linear Regression with higher R² and lower errors.  \n",
    "- Key factors influencing price included: **car age, mileage, fuel type, and transmission type**.  \n",
    "- This project demonstrates the **end-to-end ML workflow**: data cleaning, EDA, feature engineering, model building, and evaluation.\n"
   ]
  }
 ],
 "metadata": {
  "kernelspec": {
   "display_name": "Python 3",
   "language": "python",
   "name": "python3"
  },
  "language_info": {
   "codemirror_mode": {
    "name": "ipython",
    "version": 3
   },
   "file_extension": ".py",
   "mimetype": "text/x-python",
   "name": "python",
   "nbconvert_exporter": "python",
   "pygments_lexer": "ipython3",
   "version": "3.11.9"
  }
 },
 "nbformat": 4,
 "nbformat_minor": 5
}
